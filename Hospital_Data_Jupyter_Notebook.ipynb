{
 "cells": [
  {
   "cell_type": "markdown",
   "id": "af4f3002",
   "metadata": {},
   "source": [
    "# Data Analysis for Hospitals"
   ]
  },
  {
   "cell_type": "markdown",
   "id": "cfa312fd",
   "metadata": {},
   "source": [
    "*(A part of Hyperskill \"Introduction to Data Science\" course, all datasets are provided by Hyperskill)*"
   ]
  },
  {
   "cell_type": "markdown",
   "id": "fa9fd747",
   "metadata": {},
   "source": [
    "*In this Notebook we will conduct a comprehensive data study using the pandas library: from uploading data and correcting errors in the CSV files to data visualization.*"
   ]
  },
  {
   "cell_type": "markdown",
   "id": "eff1093e",
   "metadata": {},
   "source": [
    "Importing necessary libraries:"
   ]
  },
  {
   "cell_type": "code",
   "execution_count": 1,
   "id": "299b4692",
   "metadata": {},
   "outputs": [],
   "source": [
    "import pandas as pd\n",
    "import matplotlib.pyplot as plt\n",
    "import seaborn as sns"
   ]
  },
  {
   "cell_type": "code",
   "execution_count": 2,
   "id": "416adbe0",
   "metadata": {},
   "outputs": [],
   "source": [
    "%matplotlib inline"
   ]
  },
  {
   "cell_type": "markdown",
   "id": "f466394c",
   "metadata": {},
   "source": [
    "Importing the datasets of 3 hospitals - **General**, **Prenatal** and **Sports**:"
   ]
  },
  {
   "cell_type": "code",
   "execution_count": 3,
   "id": "b261775a",
   "metadata": {},
   "outputs": [],
   "source": [
    "df_general = pd.read_csv('test/general.csv')\n",
    "df_prenatal = pd.read_csv('test/prenatal.csv')\n",
    "df_sports = pd.read_csv('test/sports.csv')"
   ]
  },
  {
   "cell_type": "markdown",
   "id": "669a7aee",
   "metadata": {},
   "source": [
    "Let's have a look at the structure of said datasets:"
   ]
  },
  {
   "cell_type": "markdown",
   "id": "f66a36f3",
   "metadata": {},
   "source": [
    "**General Hospital:**"
   ]
  },
  {
   "cell_type": "code",
   "execution_count": 4,
   "id": "6620d3a7",
   "metadata": {},
   "outputs": [
    {
     "name": "stdout",
     "output_type": "stream",
     "text": [
      "   Unnamed: 0 hospital gender  age  height  weight   bmi    diagnosis  \\\n",
      "0           0  general    man   33    1.64      66  24.9         cold   \n",
      "1           1  general    man   48    1.93     106  28.4      stomach   \n",
      "2           2  general  woman   23    1.54      63  26.8         cold   \n",
      "3           3  general    man   27    1.94     103  27.5      stomach   \n",
      "4           4  general  woman   22    1.76      74  24.0  dislocation   \n",
      "5           5  general    man   46    1.90      96  26.6        heart   \n",
      "6           6  general  woman   68    1.80      85  26.4      stomach   \n",
      "7           7  general    man   35    1.57      61  25.0         cold   \n",
      "8           8  general  woman   50    1.86      86  25.0       sprain   \n",
      "9           9  general    man   25    1.79      82  25.5        heart   \n",
      "\n",
      "  blood_test  ecg ultrasound  mri xray  children  months  \n",
      "0          t  NaN        NaN  NaN  NaN       NaN     NaN  \n",
      "1          t  NaN          t  NaN  NaN       NaN     NaN  \n",
      "2          t  NaN        NaN  NaN  NaN       NaN     NaN  \n",
      "3          t  NaN          t  NaN  NaN       NaN     NaN  \n",
      "4        NaN  NaN        NaN  NaN    f       NaN     NaN  \n",
      "5          t    t        NaN  NaN  NaN       NaN     NaN  \n",
      "6          f  NaN          f  NaN  NaN       NaN     NaN  \n",
      "7          t  NaN        NaN  NaN  NaN       NaN     NaN  \n",
      "8        NaN  NaN        NaN  NaN    f       NaN     NaN  \n",
      "9          t    t        NaN  NaN  NaN       NaN     NaN  \n"
     ]
    }
   ],
   "source": [
    "print(df_general.head(10))"
   ]
  },
  {
   "cell_type": "markdown",
   "id": "e43f23f0",
   "metadata": {},
   "source": [
    "**Prenatal Hospital:**"
   ]
  },
  {
   "cell_type": "code",
   "execution_count": 5,
   "id": "2aab9242",
   "metadata": {},
   "outputs": [
    {
     "name": "stdout",
     "output_type": "stream",
     "text": [
      "   Unnamed: 0  HOSPITAL  Sex   age  height  weight   bmi  diagnosis  \\\n",
      "0           0  prenatal  NaN  27.0    1.63    74.0  28.0  pregnancy   \n",
      "1           1  prenatal  NaN  18.0    1.70    89.0  31.3  pregnancy   \n",
      "2           2  prenatal  NaN  34.0    1.65    67.0  24.9  pregnancy   \n",
      "3           3  prenatal  NaN  29.0    1.58    71.0  28.7  pregnancy   \n",
      "4           4  prenatal  NaN  33.0    1.51    57.0  25.3  pregnancy   \n",
      "5           5  prenatal  NaN  31.0    1.96   101.0  26.3  pregnancy   \n",
      "6           6  prenatal  NaN  30.0    1.78    75.0  23.7  pregnancy   \n",
      "7           7  prenatal  NaN  19.0    1.70    83.0  28.6  pregnancy   \n",
      "8           8  prenatal  NaN  44.0    1.66    68.0  25.0  pregnancy   \n",
      "9           9  prenatal  NaN  35.0    1.57    54.0  22.3  pregnancy   \n",
      "\n",
      "  blood_test ecg ultrasound  mri xray  children  months  \n",
      "0          t   t          t  NaN    f       0.0     3.0  \n",
      "1          t   t          t  NaN    f       1.0     5.0  \n",
      "2          t   t          t  NaN    f       1.0     5.0  \n",
      "3          t   t          t  NaN    f       2.0     3.0  \n",
      "4          t   t          t  NaN    f       1.0     7.0  \n",
      "5          t   t          t  NaN    f       0.0     3.0  \n",
      "6          t   t          t  NaN    f       0.0     5.0  \n",
      "7          t   t          t  NaN    f       1.0     6.0  \n",
      "8          t   t          t  NaN    f       2.0     6.0  \n",
      "9          t   t          t  NaN    f       0.0     6.0  \n"
     ]
    }
   ],
   "source": [
    "print(df_prenatal.head(10))"
   ]
  },
  {
   "cell_type": "markdown",
   "id": "373dc31d",
   "metadata": {},
   "source": [
    "**Sports Hospital:**"
   ]
  },
  {
   "cell_type": "code",
   "execution_count": 6,
   "id": "0e5964e9",
   "metadata": {},
   "outputs": [
    {
     "name": "stdout",
     "output_type": "stream",
     "text": [
      "   Unnamed: 0 Hospital Male/female   age  height  weight   bmi    diagnosis  \\\n",
      "0           0   sports      female  20.0   5.871   150.0  21.3       sprain   \n",
      "1           1   sports      female  20.0   6.665   248.0  27.3  dislocation   \n",
      "2           2   sports        male  16.0   6.960   273.0  27.6  dislocation   \n",
      "3           3   sports        male  17.0   7.128   269.0  25.9       sprain   \n",
      "4           4   sports        male  19.0   5.993   209.0  28.4  dislocation   \n",
      "5           5      NaN         NaN   NaN     NaN     NaN   NaN          NaN   \n",
      "6           6   sports      female  14.0   5.793   176.0  25.7       sprain   \n",
      "7           7   sports      female  22.0   7.351   265.0  24.0       sprain   \n",
      "8           8   sports      female  21.0   6.059   189.0  25.2     fracture   \n",
      "9           9   sports      female  18.0   5.338   151.0  26.0       sprain   \n",
      "\n",
      "   blood_test  ecg  ultrasound  mri xray  children  months  \n",
      "0         NaN    f         NaN    t    f       NaN     NaN  \n",
      "1         NaN    f         NaN    f    t       NaN     NaN  \n",
      "2         NaN    f         NaN    f    t       NaN     NaN  \n",
      "3         NaN    f         NaN    t    f       NaN     NaN  \n",
      "4         NaN    f         NaN    f    t       NaN     NaN  \n",
      "5         NaN  NaN         NaN  NaN  NaN       NaN     NaN  \n",
      "6         NaN    f         NaN    t    f       NaN     NaN  \n",
      "7         NaN    f         NaN    t    f       NaN     NaN  \n",
      "8         NaN    f         NaN    f    t       NaN     NaN  \n",
      "9         NaN    f         NaN    t    f       NaN     NaN  \n"
     ]
    }
   ],
   "source": [
    "print(df_sports.head(10))"
   ]
  },
  {
   "cell_type": "markdown",
   "id": "06ecb6de",
   "metadata": {},
   "source": [
    "Renaming columns of **prenatal** and **sports** datasets to be in line with **general** dataset:"
   ]
  },
  {
   "cell_type": "code",
   "execution_count": 7,
   "id": "32de49c3",
   "metadata": {},
   "outputs": [],
   "source": [
    "df_prenatal.rename(columns={'HOSPITAL':'hospital', 'Sex':'gender'}, inplace=True)\n",
    "df_sports.rename(columns={'Hospital':'hospital', 'Male/female':'gender'}, inplace=True)"
   ]
  },
  {
   "cell_type": "markdown",
   "id": "97ffb16a",
   "metadata": {},
   "source": [
    "Merging the datasets and deleting 'Unnamed: 0' column:"
   ]
  },
  {
   "cell_type": "code",
   "execution_count": 8,
   "id": "5f97ac3f",
   "metadata": {},
   "outputs": [],
   "source": [
    "hosp_data = pd.concat([df_general, df_prenatal, df_sports], ignore_index=True)\n",
    "hosp_data.drop(columns='Unnamed: 0', inplace=True)"
   ]
  },
  {
   "cell_type": "markdown",
   "id": "b41c4f20",
   "metadata": {},
   "source": [
    "Let's have a look at the resulting table, taking random sample of 30 rows:"
   ]
  },
  {
   "cell_type": "code",
   "execution_count": 9,
   "id": "387880d4",
   "metadata": {},
   "outputs": [
    {
     "name": "stdout",
     "output_type": "stream",
     "text": [
      "     hospital  gender   age  height  weight   bmi    diagnosis blood_test  \\\n",
      "928    sports    male  22.0   5.961   183.0  25.2       sprain        NaN   \n",
      "926    sports    male  26.0   5.804   218.0  31.7       sprain        NaN   \n",
      "901    sports  female  23.0   5.894   199.0  28.0       sprain        NaN   \n",
      "87    general     man  54.0   1.720    78.0  26.4      stomach          f   \n",
      "884    sports  female  20.0   6.771   244.0  26.0       sprain        NaN   \n",
      "297   general     man  56.0   1.480    54.0  25.1         cold          f   \n",
      "112   general     man  77.0   1.690    77.0  27.1        heart          t   \n",
      "209   general     man  29.0   2.080   109.0  25.5      stomach          t   \n",
      "419   general     man  53.0   1.700    78.0  27.2      stomach          t   \n",
      "913    sports  female  22.0   6.435   250.0  29.5       sprain        NaN   \n",
      "820    sports  female  17.0   5.722   172.0  25.7  dislocation        NaN   \n",
      "861       NaN     NaN   NaN     NaN     NaN   NaN          NaN        NaN   \n",
      "10    general     man  27.0   1.850    86.0  25.2        heart          t   \n",
      "56    general     man  23.0   1.650    66.0  24.1        heart          f   \n",
      "618  prenatal     NaN  30.0   1.490    54.0  24.5    pregnancy          t   \n",
      "978    sports    male  17.0   5.647   168.0  25.9      stomach        NaN   \n",
      "373   general   woman  44.0   1.660    78.0  28.7         cold          f   \n",
      "628  prenatal     NaN  24.0   1.610    72.0  27.9    pregnancy          t   \n",
      "858    sports    male  19.0   7.089   295.0  28.7  dislocation        NaN   \n",
      "944    sports  female  21.0   6.217   234.0  29.6  dislocation        NaN   \n",
      "\n",
      "     ecg ultrasound  mri xray  children  months  \n",
      "928    f        NaN    t    f       NaN     NaN  \n",
      "926    f        NaN    t    f       NaN     NaN  \n",
      "901    f        NaN    t    f       NaN     NaN  \n",
      "87   NaN          t  NaN  NaN       NaN     NaN  \n",
      "884    f        NaN    t    f       NaN     NaN  \n",
      "297  NaN        NaN  NaN  NaN       NaN     NaN  \n",
      "112    t        NaN  NaN  NaN       NaN     NaN  \n",
      "209  NaN          f  NaN  NaN       NaN     NaN  \n",
      "419  NaN          t  NaN  NaN       NaN     NaN  \n",
      "913    f        NaN    t    f       NaN     NaN  \n",
      "820    f        NaN    f    t       NaN     NaN  \n",
      "861  NaN        NaN  NaN  NaN       NaN     NaN  \n",
      "10     t        NaN  NaN  NaN       NaN     NaN  \n",
      "56     t        NaN  NaN  NaN       NaN     NaN  \n",
      "618    t          t  NaN    f       0.0     2.0  \n",
      "978    f        NaN    f    f       NaN     NaN  \n",
      "373  NaN        NaN  NaN  NaN       NaN     NaN  \n",
      "628    t          t  NaN    f       0.0     2.0  \n",
      "858    f        NaN    f    t       NaN     NaN  \n",
      "944    f        NaN    f    t       NaN     NaN  \n"
     ]
    }
   ],
   "source": [
    "print(hosp_data.sample(n=20, random_state=30))"
   ]
  },
  {
   "cell_type": "markdown",
   "id": "7c0dd56e",
   "metadata": {},
   "source": [
    "As our data is raw, we need to perform some cleaning, like deleting empty rows in our dataset and deal with missing values."
   ]
  },
  {
   "cell_type": "markdown",
   "id": "88e8eaf7",
   "metadata": {},
   "source": [
    "Deleting rows that entirely consist of missing data:"
   ]
  },
  {
   "cell_type": "code",
   "execution_count": 10,
   "id": "17842d2c",
   "metadata": {},
   "outputs": [],
   "source": [
    "hosp_data.dropna(how='all', inplace=True)"
   ]
  },
  {
   "cell_type": "markdown",
   "id": "67bcf184",
   "metadata": {},
   "source": [
    "Aligning gender column to have consistent records of F for Females and M for Males:"
   ]
  },
  {
   "cell_type": "code",
   "execution_count": 11,
   "id": "960c66fb",
   "metadata": {},
   "outputs": [],
   "source": [
    "hosp_data.gender = hosp_data.gender.replace(['female', 'woman'], 'f')\n",
    "hosp_data.gender = hosp_data.gender.replace(['male', 'man'], 'm')"
   ]
  },
  {
   "cell_type": "markdown",
   "id": "eaa82fe9",
   "metadata": {},
   "source": [
    "Setting NaN gender records of prenatal hospitals to F:"
   ]
  },
  {
   "cell_type": "code",
   "execution_count": 12,
   "id": "bfa7c266",
   "metadata": {},
   "outputs": [],
   "source": [
    "hosp_data.loc[hosp_data['hospital'] == 'prenatal', 'gender'] = 'f'"
   ]
  },
  {
   "cell_type": "markdown",
   "id": "fc82eefb",
   "metadata": {},
   "source": [
    "Replacing NaN records of last 9 columns with 0:"
   ]
  },
  {
   "cell_type": "code",
   "execution_count": 13,
   "id": "ca7f4e8f",
   "metadata": {},
   "outputs": [],
   "source": [
    "values={'bmi':0, 'diagnosis':0, 'blood_test':0, 'ecg':0, 'ultrasound':0,\n",
    "        'mri':0, 'xray':0, 'children':0, 'months':0}\n",
    "hosp_data.fillna(value=values, inplace=True)"
   ]
  },
  {
   "cell_type": "markdown",
   "id": "7bcbf11a",
   "metadata": {},
   "source": [
    "**So let's see what our cleaned dataset looks like:**"
   ]
  },
  {
   "cell_type": "code",
   "execution_count": 14,
   "id": "74ee5a89",
   "metadata": {},
   "outputs": [
    {
     "name": "stdout",
     "output_type": "stream",
     "text": [
      "     hospital gender   age  height  weight   bmi  diagnosis blood_test ecg  \\\n",
      "929    sports      f  23.0   6.809   259.0  27.3     sprain          0   f   \n",
      "927    sports      m  21.0   6.052   172.0  22.9     sprain          0   f   \n",
      "516  prenatal      f  20.0   1.650    66.0  24.3  pregnancy          t   t   \n",
      "87    general      m  54.0   1.720    78.0  26.4    stomach          f   0   \n",
      "885    sports      f  16.0   5.915   188.0  26.3     sprain          0   f   \n",
      "463  prenatal      f  34.0   1.650    67.0  24.9  pregnancy          t   t   \n",
      "112   general      m  77.0   1.690    77.0  27.1      heart          t   t   \n",
      "297   general      m  56.0   1.480    54.0  25.1       cold          f   0   \n",
      "417   general      f  26.0   1.650    69.0  25.3       cold          t   0   \n",
      "660  prenatal      f  38.0   1.590    70.0  27.6  pregnancy          t   t   \n",
      "344   general      f  60.0   1.410    56.0  28.3    stomach          t   0   \n",
      "834    sports      f  21.0   5.585   184.0  29.0   fracture          0   f   \n",
      "10    general      m  27.0   1.850    86.0  25.2      heart          t   t   \n",
      "56    general      m  23.0   1.650    66.0  24.1      heart          f   t   \n",
      "616  prenatal      f  33.0   1.770    81.0  25.9  pregnancy          t   t   \n",
      "479  prenatal      f  35.0   1.810    79.0  24.5  pregnancy          t   t   \n",
      "578  prenatal      f  31.0   1.770    85.0  27.1  pregnancy          t   t   \n",
      "411   general      m  26.0   1.610    70.0  27.2       cold          t   0   \n",
      "521  prenatal      f  30.0   1.740    74.0  24.7       cold          t   t   \n",
      "941    sports      f  25.0   6.208   222.0  28.2   fracture          0   f   \n",
      "\n",
      "    ultrasound mri xray  children  months  \n",
      "929          0   t    f       0.0     0.0  \n",
      "927          0   t    f       0.0     0.0  \n",
      "516          t   0    f       1.0     4.0  \n",
      "87           t   0    0       0.0     0.0  \n",
      "885          0   t    f       0.0     0.0  \n",
      "463          t   0    f       1.0     5.0  \n",
      "112          0   0    0       0.0     0.0  \n",
      "297          0   0    0       0.0     0.0  \n",
      "417          0   0    0       0.0     0.0  \n",
      "660          t   0    f       1.0     4.0  \n",
      "344          f   0    0       0.0     0.0  \n",
      "834          0   f    t       0.0     0.0  \n",
      "10           0   0    0       0.0     0.0  \n",
      "56           0   0    0       0.0     0.0  \n",
      "616          t   0    f       1.0     7.0  \n",
      "479          t   0    f       1.0     8.0  \n",
      "578          t   0    f       1.0     8.0  \n",
      "411          0   0    0       0.0     0.0  \n",
      "521          t   0    f       1.0     3.0  \n",
      "941          0   f    t       0.0     0.0  \n"
     ]
    }
   ],
   "source": [
    "print(hosp_data.sample(n=20, random_state=30))"
   ]
  },
  {
   "cell_type": "markdown",
   "id": "3cd90257",
   "metadata": {},
   "source": [
    "## Answering Questions"
   ]
  },
  {
   "cell_type": "markdown",
   "id": "035a7a9e",
   "metadata": {},
   "source": [
    "After cleaning and merging our datasets we are ready to perform an analysis and answer questions:"
   ]
  },
  {
   "cell_type": "markdown",
   "id": "2fd39f1b",
   "metadata": {},
   "source": [
    "**1. Which hospital has the highest number of patients?**"
   ]
  },
  {
   "cell_type": "code",
   "execution_count": 15,
   "id": "cf525370",
   "metadata": {},
   "outputs": [
    {
     "name": "stdout",
     "output_type": "stream",
     "text": [
      "hospital\n",
      "general     461\n",
      "prenatal    325\n",
      "sports      214\n",
      "Name: count, dtype: int64\n"
     ]
    }
   ],
   "source": [
    "amount_of_patients = hosp_data.hospital.value_counts()\n",
    "print(amount_of_patients)"
   ]
  },
  {
   "cell_type": "markdown",
   "id": "d9167232",
   "metadata": {},
   "source": [
    "**From the above table we see that the General hospital has the biggest number of patients, thus the reply is:**"
   ]
  },
  {
   "cell_type": "code",
   "execution_count": 16,
   "id": "0d0a1606",
   "metadata": {},
   "outputs": [
    {
     "name": "stdout",
     "output_type": "stream",
     "text": [
      "Biggest number of patients is served by general hospital\n"
     ]
    }
   ],
   "source": [
    "max_amount_of_patients = hosp_data.hospital.value_counts().idxmax()\n",
    "print(f'Biggest number of patients is served by {max_amount_of_patients} hospital')"
   ]
  },
  {
   "cell_type": "markdown",
   "id": "b51967e7",
   "metadata": {},
   "source": [
    "**2. What share of the patients in the general hospital suffers from stomach-related issues?**"
   ]
  },
  {
   "cell_type": "code",
   "execution_count": 17,
   "id": "3a3cc9e9",
   "metadata": {},
   "outputs": [
    {
     "name": "stdout",
     "output_type": "stream",
     "text": [
      "The answer to the 2nd question is 0.325\n"
     ]
    }
   ],
   "source": [
    "total_gen_patients = len(hosp_data.loc[hosp_data['hospital']=='general'])\n",
    "stomach_issue = len(hosp_data.loc[(hosp_data['hospital']=='general') & (hosp_data['diagnosis']=='stomach')])\n",
    "stomach_share = round(stomach_issue/total_gen_patients, 3)\n",
    "print(f'The answer to the 2nd question is {stomach_share}')"
   ]
  },
  {
   "cell_type": "markdown",
   "id": "95eaf670",
   "metadata": {},
   "source": [
    "**As we see in the outcome of our code above, the share of patients suffering from stomach issues in General hospital is 0.325**"
   ]
  },
  {
   "cell_type": "markdown",
   "id": "aa8c8783",
   "metadata": {},
   "source": [
    "**3. What share of the patients in the sports hospital suffers from dislocation-related issues?**"
   ]
  },
  {
   "cell_type": "code",
   "execution_count": 18,
   "id": "ef5d3a86",
   "metadata": {},
   "outputs": [
    {
     "name": "stdout",
     "output_type": "stream",
     "text": [
      "The answer to the 3rd question is 0.285\n"
     ]
    }
   ],
   "source": [
    "total_sport_patients = len(hosp_data.loc[hosp_data['hospital']=='sports'])\n",
    "disloc_issue = len(hosp_data.loc[(hosp_data['hospital']=='sports') & (hosp_data['diagnosis']=='dislocation')])\n",
    "disloc_share = round(disloc_issue/total_sport_patients, 3)\n",
    "print(f'The answer to the 3rd question is {disloc_share}')"
   ]
  },
  {
   "cell_type": "markdown",
   "id": "5bd7f386",
   "metadata": {},
   "source": [
    "**The result above shows, the share of patients suffering from dislocation issues in Sport hospital is 0.285**"
   ]
  },
  {
   "cell_type": "markdown",
   "id": "f84d03a5",
   "metadata": {},
   "source": [
    "**4. What is the difference in the median of ages of the patients in the general and sports hospitals?**"
   ]
  },
  {
   "cell_type": "code",
   "execution_count": 19,
   "id": "bfc6979f",
   "metadata": {},
   "outputs": [
    {
     "name": "stdout",
     "output_type": "stream",
     "text": [
      "The answer to the 4th question is 19.0\n"
     ]
    }
   ],
   "source": [
    "median_age_gen = hosp_data.loc[hosp_data['hospital']=='general', 'age'].median()\n",
    "median_age_sports = hosp_data.loc[hosp_data['hospital']=='sports', 'age'].median()\n",
    "print(f'The answer to the 4th question is {median_age_gen-median_age_sports}')"
   ]
  },
  {
   "cell_type": "markdown",
   "id": "a633626b",
   "metadata": {},
   "source": [
    "**The difference in the median of ages of the patients in the general and sports hospitals is 19.0**"
   ]
  },
  {
   "cell_type": "markdown",
   "id": "c6cdb803",
   "metadata": {},
   "source": [
    "**5. In which hospital the blood test has been taken the most often?**"
   ]
  },
  {
   "cell_type": "markdown",
   "id": "4350a33a",
   "metadata": {},
   "source": [
    "Here we should note that the *blood_test* column contains 3 possible values: \n",
    "t = a blood test has been taken, \n",
    "f = a blood test hasn't been taken, \n",
    "0 = there is no information.\n",
    "So we need to filter our dataset first, to take only the values where the blood test has been taken."
   ]
  },
  {
   "cell_type": "code",
   "execution_count": 20,
   "id": "1f7b8146",
   "metadata": {},
   "outputs": [
    {
     "name": "stdout",
     "output_type": "stream",
     "text": [
      "The answer to the 5th question is prenatal hospital, 325 blood tests\n"
     ]
    }
   ],
   "source": [
    "blood_table = hosp_data[['hospital','blood_test']].loc[hosp_data['blood_test']=='t']\n",
    "aggr_blood_table = blood_table.value_counts()\n",
    "max_blood_test_qtty = aggr_blood_table.max()\n",
    "max_blood_tests_hosp = aggr_blood_table.idxmax()[0]\n",
    "print(f'The answer to the 5th question is {max_blood_tests_hosp} hospital, {max_blood_test_qtty} blood tests')"
   ]
  },
  {
   "cell_type": "markdown",
   "id": "bf6c82e1",
   "metadata": {},
   "source": [
    "**Thus Prenatal hospital has taken the biggest amount of blood tests - 325**"
   ]
  },
  {
   "cell_type": "markdown",
   "id": "5667fb42",
   "metadata": {},
   "source": [
    "## Visualizing Data"
   ]
  },
  {
   "cell_type": "markdown",
   "id": "05943784",
   "metadata": {},
   "source": [
    "Let's visualize data to answer further questions."
   ]
  },
  {
   "cell_type": "markdown",
   "id": "101ab83c",
   "metadata": {},
   "source": [
    "**6. What is the most common age of patients among all hospitals?**"
   ]
  },
  {
   "cell_type": "markdown",
   "id": "db5a5fcb",
   "metadata": {},
   "source": [
    "To answer this question, first we will divide all patients among all hospitals into following age groups: 0-15 years old, 15-35, 35-55, 55-70 and 70-80."
   ]
  },
  {
   "cell_type": "code",
   "execution_count": 21,
   "id": "ebf5a903",
   "metadata": {},
   "outputs": [
    {
     "data": {
      "image/png": "[encoded data removed]",
      "text/plain": [
       "<Figure size 640x480 with 1 Axes>"
      ]
     },
     "metadata": {},
     "output_type": "display_data"
    }
   ],
   "source": [
    "plt.figure()\n",
    "bins = [0,15,35,55,70,80]\n",
    "age_hist = sns.histplot(data=hosp_data, x='age', bins=bins, color='green')\n",
    "age_hist.set(xlabel='Patients age group', ylabel='Number of patients', title=\"Patients' age among all hospitals\")\n",
    "age_hist.set_xticks(bins)\n",
    "plt.xlim(0)\n",
    "plt.show()"
   ]
  },
  {
   "cell_type": "markdown",
   "id": "60af6e5f",
   "metadata": {},
   "source": [
    "**Here we see that 15-35 age group is the most common among all hospitals**"
   ]
  },
  {
   "cell_type": "markdown",
   "id": "aad48952",
   "metadata": {},
   "source": [
    "**7. What is the most common diagnosis among patients in all hospitals?**"
   ]
  },
  {
   "cell_type": "code",
   "execution_count": 22,
   "id": "37455998",
   "metadata": {},
   "outputs": [
    {
     "data": {
      "image/png": "[encoded data removed]",
      "text/plain": [
       "<Figure size 640x480 with 1 Axes>"
      ]
     },
     "metadata": {},
     "output_type": "display_data"
    }
   ],
   "source": [
    "plt.figure()\n",
    "diag_df = hosp_data['diagnosis'].value_counts()\n",
    "explode = (0.01, 0.01, 0.01, 0.01, 0.01, 0.01, 0.01)\n",
    "pie_diag = plt.pie(diag_df, labels=diag_df.index, autopct='%1.1f%%', explode=explode)\n",
    "plt.title(\"Diagnosis among patients in all hospitals\")\n",
    "plt.show()"
   ]
  },
  {
   "cell_type": "markdown",
   "id": "010d937a",
   "metadata": {},
   "source": [
    "**Well, now we see that the biggest amount of patients is diagnosed with pregnancy. A great diagnosis, isn't it?**"
   ]
  },
  {
   "cell_type": "markdown",
   "id": "7223ff9b",
   "metadata": {},
   "source": [
    "**8. Build a violin plot of height distribution by hospitals.**"
   ]
  },
  {
   "cell_type": "markdown",
   "id": "47bedc43",
   "metadata": {},
   "source": [
    "Here we need to pay attention that the **sports hospital** is using different measurement system, keeping patients' records in feet, not in meters, thus in order to be able to compare data with other hospitals, we have to convert height from the sports hospital data."
   ]
  },
  {
   "cell_type": "code",
   "execution_count": 23,
   "id": "fad77406",
   "metadata": {},
   "outputs": [
    {
     "name": "stdout",
     "output_type": "stream",
     "text": [
      "789    1.82\n",
      "790    2.07\n",
      "791    2.16\n",
      "792    2.22\n",
      "793    1.86\n",
      "795    1.80\n",
      "796    2.28\n",
      "797    1.88\n",
      "798    1.66\n",
      "799    1.92\n",
      "800    1.92\n",
      "801    1.91\n",
      "802    1.84\n",
      "803    2.00\n",
      "804    2.05\n",
      "805    2.10\n",
      "806    1.89\n",
      "807    2.17\n",
      "808    1.92\n",
      "809    2.02\n",
      "Name: height, dtype: float64\n"
     ]
    }
   ],
   "source": [
    "height_sport = hosp_data['height'].loc[hosp_data.hospital == 'sports'].apply(lambda x: round((x/3.218), 2))\n",
    "print(height_sport.head(20))"
   ]
  },
  {
   "cell_type": "markdown",
   "id": "979f8a6e",
   "metadata": {},
   "source": [
    "Let's take heights of patients of other hospitals separately and build a **violin plot**, showing **distribution** of patients' heights for different hospitals:"
   ]
  },
  {
   "cell_type": "code",
   "execution_count": 24,
   "id": "1e34d111",
   "metadata": {},
   "outputs": [
    {
     "data": {
      "image/png": "[encoded data removed]",
      "text/plain": [
       "<Figure size 640x480 with 1 Axes>"
      ]
     },
     "metadata": {},
     "output_type": "display_data"
    }
   ],
   "source": [
    "height_general = hosp_data['height'].loc[hosp_data.hospital == 'general']\n",
    "height_prenatal = hosp_data['height'].loc[hosp_data.hospital == 'prenatal']\n",
    "height_data = [height_general, height_prenatal, height_sport]\n",
    "fig, axes = plt.subplots()\n",
    "height_plot = plt.violinplot(height_data, showmeans=True)\n",
    "axes.set_xticks((1, 2, 3))\n",
    "axes.set_xticklabels(('general','prenatal','sports'))\n",
    "axes.set_ylabel(\"Height of patients\")\n",
    "axes.set_title('Patients height distribution by hospitals')\n",
    "height_plot['cmeans'].set_color('Yellow')\n",
    "plt.show()"
   ]
  },
  {
   "cell_type": "markdown",
   "id": "6cf71247",
   "metadata": {},
   "source": [
    "On the above plot we can see the height distribution for 3 different hospitals. In the middle of each violin plot we have mean marked in yellow. Well, here we can clearly see that the average height of patients served by sports hospital is bigger than those ones served by general and prenatal hospitals. Patients of the latter one have the lowest average height, which makes sense, knowing that the prenatal hospitals treat females (who generally tend to have smaller height)."
   ]
  },
  {
   "cell_type": "markdown",
   "id": "597e9026",
   "metadata": {},
   "source": [
    "**As we see, data is powerful. With just 3 source tables and few lines of code it's possible to clean, combine and analyze data, visualize our results and get useful insights from it.**"
   ]
  },
  {
   "cell_type": "markdown",
   "id": "4ae06fc7",
   "metadata": {},
   "source": [
    "*Made by __Artur Azimov__*"
   ]
  },
  {
   "cell_type": "markdown",
   "id": "e6421c81",
   "metadata": {},
   "source": [
    "*(The project is a part of Hyperskill(Jetbrains) \"Introduction to Data Science\" course)*"
   ]
  },
  {
   "cell_type": "markdown",
   "id": "5dc4c9b7",
   "metadata": {},
   "source": [
    " "
   ]
  }
 ],
 "metadata": {
  "kernelspec": {
   "display_name": "Python 3 (ipykernel)",
   "language": "python",
   "name": "python3"
  },
  "language_info": {
   "codemirror_mode": {
    "name": "ipython",
    "version": 3
   },
   "file_extension": ".py",
   "mimetype": "text/x-python",
   "name": "python",
   "nbconvert_exporter": "python",
   "pygments_lexer": "ipython3",
   "version": "3.11.5"
  }
 },
 "nbformat": 4,
 "nbformat_minor": 5
}
